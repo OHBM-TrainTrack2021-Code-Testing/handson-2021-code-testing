{
  "nbformat": 4,
  "nbformat_minor": 0,
  "metadata": {
    "colab": {
      "name": "1_mini-tour-colab.ipynb",
      "provenance": [],
      "toc_visible": true,
      "authorship_tag": "ABX9TyN+UaAmDG5H8h8yrPS4Hzrl",
      "include_colab_link": true
    },
    "kernelspec": {
      "name": "python3",
      "display_name": "Python 3"
    },
    "language_info": {
      "name": "python"
    }
  },
  "cells": [
    {
      "cell_type": "markdown",
      "metadata": {
        "id": "view-in-github",
        "colab_type": "text"
      },
      "source": [
        "<a href=\"https://colab.research.google.com/github/lindajune/handson-2021-code-testing/blob/main/1_mini_tour_colab.ipynb\" target=\"_parent\"><img src=\"https://colab.research.google.com/assets/colab-badge.svg\" alt=\"Open In Colab\"/></a>"
      ]
    },
    {
      "cell_type": "markdown",
      "metadata": {
        "id": "NqDKvwtyjowR"
      },
      "source": [
        "#Practice Python With Google Colab\n",
        "\n",
        "---\n"
      ]
    },
    {
      "cell_type": "markdown",
      "metadata": {
        "id": "q3R6Jv4zJEyQ"
      },
      "source": [
        "This mini tour of Google Colab was adapted from the Colab Tutorial by [Kevin Zakka](https://cs231n.github.io/) and an introduction of Colab by [Shuyi Wang](https://towardsdatascience.com/how-to-practice-python-with-google-colab-45fc6b7d118b). It runs Python3 by default."
      ]
    },
    {
      "cell_type": "markdown",
      "metadata": {
        "id": "Sm0Zt_1ulPwq"
      },
      "source": [
        "## Introduction\n",
        "For python beginners, they could run into the following practical problems easily:\n",
        "\n",
        "    Do not know how to install and set up the Python running environment;\n",
        "    Do not know how to find the solutions effectively when facing the problems;\n",
        "    Do not know how to collaborate with others when trying to finish the group tasks；\n",
        "    Do not know how to handle version control, which may lead the code to chaotic.\n",
        "\n",
        "Google Colab is a suitable tool for beginners to practice Python. It supports automatic setting-up, getting help effectively, collaborative programming, and version control.\n",
        "\n"
      ]
    },
    {
      "cell_type": "markdown",
      "metadata": {
        "id": "7q2S1WpzohJo"
      },
      "source": [
        "## How to use it?\n",
        "Just open a browser（I recommend Google Chrome or Firefox), and input the following URL: https://colab.research.google.com\n",
        "\n",
        "Now creat your code and run it!\n",
        "\n",
        "Watch [Introduction to Colab](https://www.youtube.com/watch?v=inN8seMm7UI) to learn more, or just get started below!"
      ]
    },
    {
      "cell_type": "markdown",
      "metadata": {
        "id": "J9R_QbEbo5kC"
      },
      "source": [
        "## Python Version\n",
        "\n",
        "As of Janurary 1, 2020, Python has [officially dropped support](https://www.python.org/doc/sunset-python-2/) for `python2`. You can check your Python version at the command line by running `python --version`. Note that as of June 2021, Colab uses Python 3.7.10 which should run everything without any errors."
      ]
    },
    {
      "cell_type": "code",
      "metadata": {
        "id": "pFnQnYEFpaWW"
      },
      "source": [
        "!python --version"
      ],
      "execution_count": null,
      "outputs": []
    },
    {
      "cell_type": "markdown",
      "metadata": {
        "id": "T30SpoW1qiMC"
      },
      "source": [
        "## Packages or Libraries\n",
        "Although you did not go through any installation processes, it still contains almost all the modules you need for data science analysis.\n",
        "\n",
        "These tools include but are not limited to Numpy, Scipy, Pandas, etc. Even deep learning frameworks, such as Tensorflow, Keras and Pytorch are also included."
      ]
    },
    {
      "cell_type": "markdown",
      "metadata": {
        "id": "qSS0rC-trngE"
      },
      "source": [
        "### 1. version check"
      ]
    },
    {
      "cell_type": "code",
      "metadata": {
        "colab": {
          "base_uri": "https://localhost:8080/"
        },
        "id": "Y43klDOFrgEG",
        "outputId": "988c2f2c-5602-4b35-bd01-583ae512283f"
      },
      "source": [
        "!pip list -v | grep numpy"
      ],
      "execution_count": null,
      "outputs": [
        {
          "output_type": "stream",
          "text": [
            "numpy                         1.19.5              /usr/local/lib/python3.7/dist-packages pip      \n"
          ],
          "name": "stdout"
        }
      ]
    },
    {
      "cell_type": "code",
      "metadata": {
        "colab": {
          "base_uri": "https://localhost:8080/"
        },
        "id": "inqgxypLrxUZ",
        "outputId": "e971ed22-150e-453f-f0e9-06ed4886d15b"
      },
      "source": [
        "!pip list -v | grep pandas"
      ],
      "execution_count": null,
      "outputs": [
        {
          "output_type": "stream",
          "text": [
            "pandas                        1.1.5               /usr/local/lib/python3.7/dist-packages pip      \n",
            "pandas-datareader             0.9.0               /usr/local/lib/python3.7/dist-packages pip      \n",
            "pandas-gbq                    0.13.3              /usr/local/lib/python3.7/dist-packages pip      \n",
            "pandas-profiling              1.4.1               /usr/local/lib/python3.7/dist-packages pip      \n",
            "sklearn-pandas                1.8.0               /usr/local/lib/python3.7/dist-packages pip      \n"
          ],
          "name": "stdout"
        }
      ]
    },
    {
      "cell_type": "markdown",
      "metadata": {
        "id": "Un4aucxgrzlE"
      },
      "source": [
        "### 2. import a library that s in Colab"
      ]
    },
    {
      "cell_type": "code",
      "metadata": {
        "id": "-eTNPvR0q9HW"
      },
      "source": [
        "import numpy as np"
      ],
      "execution_count": null,
      "outputs": []
    },
    {
      "cell_type": "code",
      "metadata": {
        "id": "e_hgTMNjrAl3"
      },
      "source": [
        "import pandas as pd"
      ],
      "execution_count": null,
      "outputs": []
    },
    {
      "cell_type": "code",
      "metadata": {
        "id": "i9aJP_fHrD1Q"
      },
      "source": [
        "import scipy"
      ],
      "execution_count": null,
      "outputs": []
    },
    {
      "cell_type": "code",
      "metadata": {
        "id": "2zP1kkvdrK2B"
      },
      "source": [
        "import matplotlib.pyplot as plt"
      ],
      "execution_count": null,
      "outputs": []
    },
    {
      "cell_type": "markdown",
      "metadata": {
        "id": "p9JyRy6RsADv"
      },
      "source": [
        "### 3. importing a library that is not in Colab\n",
        "\n",
        "To import a library that's not in Colab by default, you can use !pip install or !apt-get install."
      ]
    },
    {
      "cell_type": "code",
      "metadata": {
        "id": "vDWhhgZDsomO"
      },
      "source": [
        "!pip install matplotlib-venn"
      ],
      "execution_count": null,
      "outputs": []
    },
    {
      "cell_type": "code",
      "metadata": {
        "id": "nAlln7y9tw_f"
      },
      "source": [
        "# https://pypi.python.org/pypi/pydot\n",
        "!apt-get -qq install -y graphviz && pip install pydot\n",
        "import pydot"
      ],
      "execution_count": null,
      "outputs": []
    },
    {
      "cell_type": "markdown",
      "metadata": {
        "id": "jFbeE1ZTuG-X"
      },
      "source": [
        "### 4. python function\n",
        "Define a python function using the `def` keyword. "
      ]
    },
    {
      "cell_type": "code",
      "metadata": {
        "id": "21i7Y062ujbq"
      },
      "source": [
        "def sign(x):\n",
        "    if x > 0:\n",
        "        return 'positive'\n",
        "    elif x < 0:\n",
        "        return 'negative'\n",
        "    else:\n",
        "        return 'zero'\n",
        "\n",
        "for x in [-1, 0, 1]:\n",
        "    print(sign(x))"
      ],
      "execution_count": null,
      "outputs": []
    },
    {
      "cell_type": "markdown",
      "metadata": {
        "id": "62ivyYMduq7l"
      },
      "source": [
        "Define a function to take optional keyword arguments, for example:"
      ]
    },
    {
      "cell_type": "code",
      "metadata": {
        "id": "6x097JqLuvkY"
      },
      "source": [
        "def hello(name, loud=False):\n",
        "    if loud:\n",
        "        print('HELLO, {}'.format(name.upper()))\n",
        "    else:\n",
        "        print('Hello, {}!'.format(name))\n",
        "\n",
        "hello('Bob')\n",
        "hello('Fred', loud=True)"
      ],
      "execution_count": null,
      "outputs": []
    },
    {
      "cell_type": "markdown",
      "metadata": {
        "id": "N25tVLE3vcq9"
      },
      "source": [
        "### 5. advanced examples\n",
        "More examples to practice beyond this hands-on session could be found: [Colab Tutorials for Python Programming](https://colab.research.google.com/github/cs231n/cs231n.github.io/blob/master/python-colab.ipynb#scrollTo=dzNng6vCL9eP). "
      ]
    },
    {
      "cell_type": "markdown",
      "metadata": {
        "id": "pjQ_MZVYwFKQ"
      },
      "source": [
        ""
      ]
    }
  ]
}