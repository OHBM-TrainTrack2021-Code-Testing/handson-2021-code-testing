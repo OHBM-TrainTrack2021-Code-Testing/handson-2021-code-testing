{
  "nbformat": 4,
  "nbformat_minor": 0,
  "metadata": {
    "colab": {
      "name": "README.ipynb",
      "provenance": [],
      "authorship_tag": "ABX9TyOieJpETAOD+x8p6ZVnZWwJ",
      "include_colab_link": true
    },
    "kernelspec": {
      "name": "python3",
      "display_name": "Python 3"
    },
    "language_info": {
      "name": "python"
    }
  },
  "cells": [
    {
      "cell_type": "markdown",
      "metadata": {
        "id": "view-in-github",
        "colab_type": "text"
      },
      "source": [
        "<a href=\"https://colab.research.google.com/github/lindajune/handson-2021-code-testing/blob/main/README.ipynb\" target=\"_parent\"><img src=\"https://colab.research.google.com/assets/colab-badge.svg\" alt=\"Open In Colab\"/></a>"
      ]
    },
    {
      "cell_type": "markdown",
      "metadata": {
        "id": "HhoPQ1NUFTLW"
      },
      "source": [
        "# OHBM Hackathon 2021 TrainTrack Session - Code Testing\n",
        "Welcome to the code and content repository of the hands-on session ***Code Testing***, part of the TrainTrack of the [OHBM BrainHack 2021](https://ohbm.github.io/hackathon2021/traintrack/)\n",
        "\n",
        "---\n",
        "### Presenters:\n",
        "[Han Zhang](https://www.researchgate.net/profile/Han-Zhang-44)\n",
        "\n",
        "---\n",
        "\n",
        "## Abstract\n",
        "\n",
        "No matter which language your programming depends on, bugs inevitably exist even for experienced coders. For beginners, how to test code and make it run to completion is of utmost importance to build up their coding confidence.\n",
        "\n",
        "In this session, we will go through the necessary tools and some tips for efficient debugging/programming with Python. You will be assigned into small groups to get familiar with reading errors and handling exceptions, try-out the debugger tools, and end up with a practice in code testing for regression analysis and simple machine learning protocol.\n",
        "\n",
        "\n",
        "## Goals\n",
        "\n",
        "By the end of this session, you should be able to do the following STEPS:\n",
        "\n",
        "1. Use google colab for python programming\n",
        "2. Understand errors and exceptions\n",
        "3. Set up exploratory testing and automated testing\n",
        "4. Be aware of good programming habit\n",
        "\n",
        "\n",
        "## Slides\n",
        "\n",
        "The sessions follows the [**slides**](https://drive.google.com/file/d/1eDrrN7UwgNL5kXjQuU0GHvHwYCp2GytZ/view?usp=sharing) step by step.\n"
      ]
    },
    {
      "cell_type": "markdown",
      "metadata": {
        "id": "T_NDyN6IFWQf"
      },
      "source": [
        ""
      ]
    }
  ]
}