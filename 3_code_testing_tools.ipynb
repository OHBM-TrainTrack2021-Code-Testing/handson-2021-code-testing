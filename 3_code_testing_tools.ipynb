{
  "nbformat": 4,
  "nbformat_minor": 0,
  "metadata": {
    "colab": {
      "name": "3_code-testing-tools.ipynb",
      "provenance": [],
      "collapsed_sections": [],
      "toc_visible": true,
      "authorship_tag": "ABX9TyOImkDP9bYy34w9efQRUdpZ",
      "include_colab_link": true
    },
    "kernelspec": {
      "name": "python3",
      "display_name": "Python 3"
    },
    "language_info": {
      "name": "python"
    }
  },
  "cells": [
    {
      "cell_type": "markdown",
      "metadata": {
        "id": "view-in-github",
        "colab_type": "text"
      },
      "source": [
        "<a href=\"https://colab.research.google.com/github/lindajune/handson-2021-code-testing/blob/main/3_code_testing_tools.ipynb\" target=\"_parent\"><img src=\"https://colab.research.google.com/assets/colab-badge.svg\" alt=\"Open In Colab\"/></a>"
      ]
    },
    {
      "cell_type": "markdown",
      "metadata": {
        "id": "tSAau81_M-k6"
      },
      "source": [
        "#Exploratory testing (Testing with breakpoints)\n",
        "\n",
        "---\n",
        "There are many ways to test your code. Exploratory testing is a form of testing that is done without a plan. A typical way is to **set breakpoints** to run your code. You set breakpoints wherever you want to pause debugger execution. For example, you may want to see the state of code variables or look at the call stack at a certain breakpoint. \n",
        "\n",
        "note: example in this secion was adapted from [Jupyter Tips and Tricks](https://chrieke.medium.com/jupyter-tips-and-tricks-994fdddb2057) and [Testing in Python](https://realpython.com/python-testing/#testing-your-code)."
      ]
    },
    {
      "cell_type": "markdown",
      "metadata": {
        "id": "GxLvohIRNZNP"
      },
      "source": [
        "## Magic command %debug\n",
        "The easiest way to debug a Jupyter notebook is to use the %debug magic command. Whenever you encounter an error or exception, just open a new notebook cell, type %debug and run the cell. This will open a command line where you can test your code and inspect all variables right up to the line that threw the error.\n",
        "Type “n” and hit Enter to run the next line of code (The → arrow shows you the current position). "
      ]
    },
    {
      "cell_type": "markdown",
      "metadata": {
        "id": "CdZDtmbqOo65"
      },
      "source": [
        "### example"
      ]
    },
    {
      "cell_type": "code",
      "metadata": {
        "id": "3SKdgl0UOqr8"
      },
      "source": [
        "number_one = 5\n",
        "number_two = 0\n",
        "result = number_one/number_two"
      ],
      "execution_count": null,
      "outputs": []
    },
    {
      "cell_type": "code",
      "metadata": {
        "id": "_jad_9DsO4ID"
      },
      "source": [
        "%debug"
      ],
      "execution_count": null,
      "outputs": []
    },
    {
      "cell_type": "markdown",
      "metadata": {
        "id": "ts8K-qXnP5Km"
      },
      "source": [
        "## iPython debugger\n",
        "iPython debugger is another option. Import it and use set_trace() anywhere in your notebook to create one or multiple breakpoints. When executing a cell, it will stop at the first breakpoint and open the command line for code inspection. You can also set breakpoints in the code of imported modules, but don’t forget to import the debugger in there as well. Use “c” to continue execution."
      ]
    },
    {
      "cell_type": "markdown",
      "metadata": {
        "id": "1HNz374fQJy5"
      },
      "source": [
        "### example"
      ]
    },
    {
      "cell_type": "code",
      "metadata": {
        "id": "cXEgeJgEQLnQ"
      },
      "source": [
        "from IPython.core.debugger import set_trace\n",
        "\n",
        "number_one = 5\n",
        "number_two = 0\n",
        "set_trace()\n",
        "result = number_one+number_two\n",
        "print(\"The result is: \" + str(result))\n"
      ],
      "execution_count": null,
      "outputs": []
    },
    {
      "cell_type": "markdown",
      "metadata": {
        "id": "u69tL6ywPMDZ"
      },
      "source": [
        "## Visual debugger \n",
        "If you want to set breakpoints in Python like in MATLAB, some JupyterLab extensions may help. \n",
        "For example, there is [a visual debugger for Jupyter](https://blog.jupyter.org/a-visual-debugger-for-jupyter-914e61716559). You can [try this debugger](https://hub.gke2.mybinder.org/user/jupyterlab-debugger-zziznu0f/lab) online with binder. "
      ]
    },
    {
      "cell_type": "markdown",
      "metadata": {
        "id": "5teJ_hDENIqz"
      },
      "source": [
        "# Automated testing (Unit test framework)\n",
        "\n",
        "---\n",
        "When your code is quite long and integrated with multiple functions, the manual exploratory testing could be overwhelming. This is where automated testing comes in. Automated testing is the execution of your test plan (the parts of your application you want to test, the order in which you want to test them, and the expected responses) by a script instead of a human. A typical way of automated testing is the **unit test**.\n",
        "\n",
        "[Unit test framework](https://www.oreilly.com/library/view/unit-test-frameworks/0596006896/ch01.html) are software tools to support writing and running unit tests, including a foundation on which to build tests and the functionality to execute the tests and report their results. A unit test is a smaller test, one that checks that a single component operates in the right way. A unit test helps you to isolate what is broken in your application and fix it faster.\n",
        "\n",
        "There are many unit test runners available for Python. The one built into the Python standard library is called unittest. "
      ]
    },
    {
      "cell_type": "markdown",
      "metadata": {
        "id": "AGk_Lel8NYta"
      },
      "source": [
        "## unittest\n",
        "unittest has been built into the Python standard library since version 2.1. unittest contains both a testing framework and a test runner. unittest has some important requirements for writing and executing tests:\n",
        "\n",
        "    You put your tests into classes as methods\n",
        "    You use a series of special assertion methods in the unittest.TestCase class instead of the built-in assert statement\n"
      ]
    },
    {
      "cell_type": "markdown",
      "metadata": {
        "id": "Q-OEJddWZ-eZ"
      },
      "source": [
        "### example 1:\n",
        "This is an example of successful testing."
      ]
    },
    {
      "cell_type": "code",
      "metadata": {
        "colab": {
          "base_uri": "https://localhost:8080/"
        },
        "id": "TB9u2zMLZ86K",
        "outputId": "9ae2df72-9efa-419c-c505-46b5b24aadd5"
      },
      "source": [
        "# Import unittest from the standard library\n",
        "import unittest\n",
        "\n",
        "# Create a class called TestSum that inherits from the TestCase class\n",
        "class TestSum(unittest.TestCase):\n",
        "\n",
        "    # Convert the test functions into methods by adding self as the first argument\n",
        "    # Change the assertions to use the self.assertEqual() method on the TestCase class\n",
        "    def test_sum(self):\n",
        "        self.assertEqual(sum([1, 2, 3]), 6, \"Should be 6\")\n",
        "\n",
        "# Change the command-line entry point to call unittest.main()\n",
        "if __name__ == '__main__':\n",
        "    unittest.main(argv=['first-arg-is-ignored'], exit=False) # this is an adaption for colab\n",
        "#     unittest.main()"
      ],
      "execution_count": null,
      "outputs": [
        {
          "output_type": "stream",
          "text": [
            ".\n",
            "----------------------------------------------------------------------\n",
            "Ran 1 test in 0.003s\n",
            "\n",
            "OK\n"
          ],
          "name": "stderr"
        }
      ]
    },
    {
      "cell_type": "markdown",
      "metadata": {
        "id": "HHpwylB-eN9C"
      },
      "source": [
        "### example 2:\n",
        "This is an example of an error."
      ]
    },
    {
      "cell_type": "code",
      "metadata": {
        "colab": {
          "base_uri": "https://localhost:8080/"
        },
        "id": "xQtXAiQGePYz",
        "outputId": "7e2f905e-71de-43e6-9ac7-aa304ac72b08"
      },
      "source": [
        "import unittest\n",
        "\n",
        "class TestSum(unittest.TestCase):\n",
        "\n",
        "    def test_sum(self):\n",
        "        self.assertEqual(sum([1, 2, 3]), 5, \"Should be 6\")\n",
        "\n",
        "if __name__ == '__main__':\n",
        "    unittest.main(argv=['first-arg-is-ignored'], exit=False) "
      ],
      "execution_count": null,
      "outputs": [
        {
          "output_type": "stream",
          "text": [
            "F\n",
            "======================================================================\n",
            "FAIL: test_sum (__main__.TestSum)\n",
            "----------------------------------------------------------------------\n",
            "Traceback (most recent call last):\n",
            "  File \"<ipython-input-2-a5476a1f02d5>\", line 6, in test_sum\n",
            "    self.assertEqual(sum([1, 2, 3]), 5, \"Should be 6\")\n",
            "AssertionError: 6 != 5 : Should be 6\n",
            "\n",
            "----------------------------------------------------------------------\n",
            "Ran 1 test in 0.004s\n",
            "\n",
            "FAILED (failures=1)\n"
          ],
          "name": "stderr"
        }
      ]
    },
    {
      "cell_type": "markdown",
      "metadata": {
        "id": "LaafxovWa8-O"
      },
      "source": [
        "### example 3:\n",
        "This is an example to try different assert methods. Please restart runtime to run this example!\n",
        "\n",
        "The TestCase class provides several assert methods to check for and report failures. The table [here](https://docs.python.org/3/library/unittest.html#assert-methods) lists the most commonly used methods."
      ]
    },
    {
      "cell_type": "code",
      "metadata": {
        "colab": {
          "base_uri": "https://localhost:8080/"
        },
        "id": "xb20KF0abIAr",
        "outputId": "cda11a3d-ac59-4ae8-a016-36fe36a3a7b3"
      },
      "source": [
        "import unittest\n",
        "class TestAddertMethods(unittest.TestCase):\n",
        "\n",
        "    def test_upper(self):\n",
        "        self.assertEqual('foo'.upper(), 'FOO')\n",
        "\n",
        "    def test_isupper(self):\n",
        "        self.assertTrue('FOO'.isupper())\n",
        "        self.assertFalse('Foo'.isupper())\n",
        "\n",
        "    def test_member(self):\n",
        "        self.assertIn(1, [1, 2, 3])\n",
        "\n",
        "if __name__ == '__main__':\n",
        "    unittest.main(argv=['first-arg-is-ignored'], exit=False)"
      ],
      "execution_count": null,
      "outputs": [
        {
          "output_type": "stream",
          "text": [
            "...\n",
            "----------------------------------------------------------------------\n",
            "Ran 3 tests in 0.010s\n",
            "\n",
            "OK\n"
          ],
          "name": "stderr"
        }
      ]
    },
    {
      "cell_type": "markdown",
      "metadata": {
        "id": "hogD-UlJg0Gm"
      },
      "source": [
        "### quiz\n",
        "please complete the code below:\n",
        "- define functions to conduct \"add, subtract, multiply and divide\"\n",
        "- test your functions with unittest"
      ]
    },
    {
      "cell_type": "code",
      "metadata": {
        "id": "uzFGZu16g1H1"
      },
      "source": [
        "# define functions\n",
        "def add(a, b):\n",
        "    return a+b\n",
        "\n",
        "\n",
        "# apply unittest\n",
        "import unittest\n",
        "class TestMathFunc(unittest.TestCase):\n",
        "\n",
        "\n",
        "\n",
        "if __name__ == '__main__':\n",
        "    unittest.main(argv=['first-arg-is-ignored'], exit=False)"
      ],
      "execution_count": null,
      "outputs": []
    },
    {
      "cell_type": "markdown",
      "metadata": {
        "id": "fczs5l7ZVHi7"
      },
      "source": [
        "## more\n",
        "- unittest: more detail could be found [here](https://docs.python.org/3/library/unittest.html#assert-methods)\n",
        "\n",
        "- pytest: [pytest](https://docs.pytest.org/en/latest/) also supports execution of unittest test cases. The real advantage of pytest comes by writing pytest test cases. pytest test cases are a series of functions in a Python file starting with the name test_. "
      ]
    },
    {
      "cell_type": "markdown",
      "metadata": {
        "id": "TBqfvEuAZghG"
      },
      "source": [
        ""
      ]
    }
  ]
}